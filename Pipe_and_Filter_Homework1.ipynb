{
 "cells": [
  {
   "cell_type": "code",
   "execution_count": 26,
   "id": "5374dea9-e339-4477-96a1-23e6ecbc1f92",
   "metadata": {},
   "outputs": [],
   "source": [
    "import requests\n",
    "from bs4 import BeautifulSoup\n",
    "import pandas as pd\n",
    "import timeit"
   ]
  },
  {
   "cell_type": "code",
   "execution_count": 28,
   "id": "19a268d6-9470-481d-b415-19693befe48d",
   "metadata": {},
   "outputs": [],
   "source": [
    "def scrape(mainUrl):\n",
    "    fromDates = ['2014', '2015', '2016', '2017', '2018', '2019', '2020', '2021', '2022', '2023']\n",
    "    toDates = ['2015', '2016', '2017', '2018', '2019', '2020', '2021', '2022', '2023', '2024']\n",
    "    pomUrl = mainUrl + \"ALK\"\n",
    "    response = requests.get(pomUrl)\n",
    "    soup = BeautifulSoup(response.text, 'html.parser')\n",
    "    sifri = soup.select(\"#Code > option\")\n",
    "    companies = []\n",
    "    for s in sifri:\n",
    "      if not any(char.isdigit() for char in s.text):\n",
    "        companies.append(s.text)\n",
    "    dataFrameList = []\n",
    "    for j in range(len(companies)):\n",
    "        myList = []\n",
    "        for i in range(len(fromDates)):\n",
    "            url = mainUrl + companies[j] + \"?FromDate=10.11.\" + fromDates[i] + \"&ToDate=09.11.\" + toDates[i]\n",
    "            response = requests.get(url)\n",
    "            soup = BeautifulSoup(response.text, 'html.parser')\n",
    "            rows = soup.select(\"#resultsTable > tbody > tr\")\n",
    "            for row in rows:\n",
    "                datum = row.select_one(\"td:nth-child(1)\").text\n",
    "                cena_posledna = row.select_one(\"td:nth-child(2)\").text\n",
    "                mak = row.select_one(\"td:nth-child(3)\").text\n",
    "                minimum = row.select_one(\"td:nth-child(4)\").text\n",
    "                cena_prosecna = row.select_one(\"td:nth-child(5)\").text\n",
    "                procent_promet = row.select_one(\"td:nth-child(6)\").text\n",
    "                kolicina = row.select_one(\"td:nth-child(7)\").text\n",
    "                BEST_MKD = row.select_one(\"td:nth-child(8)\").text\n",
    "                vk_promet = row.select_one(\"td:nth-child(9)\").text\n",
    "        \n",
    "                cena_dict = {\n",
    "                    \"Company Name\": companies[j],\n",
    "                    \"Date\": datum,\n",
    "                    \"Price\": cena_posledna,\n",
    "                    \"Maximum\": mak,\n",
    "                    \"Minimum\": minimum,\n",
    "                    \"Average Price\": cena_prosecna,\n",
    "                    \"Procent of turnover\": procent_promet,\n",
    "                    \"Quantity\": kolicina,\n",
    "                    \"BEST MKD\": BEST_MKD,\n",
    "                    \"Total turnover\": vk_promet\n",
    "                }\n",
    "                myList.append(cena_dict)\n",
    "                \n",
    "        df = pd.DataFrame(myList)\n",
    "        dataFrameList.append(df)\n",
    "            \n",
    "    return dataFrameList"
   ]
  },
  {
   "cell_type": "code",
   "execution_count": 30,
   "id": "205245d1-7df8-474c-9544-907f6087cd06",
   "metadata": {},
   "outputs": [],
   "source": [
    "dataFor1Year = scrape(\"https://www.mse.mk/mk/stats/symbolhistory/\")"
   ]
  },
  {
   "cell_type": "code",
   "execution_count": 32,
   "id": "936e92cd-3232-4e4c-9a56-a7e434d174b8",
   "metadata": {},
   "outputs": [],
   "source": [
    "concatinatedDF = pd.concat(dataFor1Year)\n",
    "concatinatedDF.to_csv('DataForCompanies.csv', index=False)"
   ]
  }
 ],
 "metadata": {
  "kernelspec": {
   "display_name": "Python 3 (ipykernel)",
   "language": "python",
   "name": "python3"
  },
  "language_info": {
   "codemirror_mode": {
    "name": "ipython",
    "version": 3
   },
   "file_extension": ".py",
   "mimetype": "text/x-python",
   "name": "python",
   "nbconvert_exporter": "python",
   "pygments_lexer": "ipython3",
   "version": "3.12.7"
  }
 },
 "nbformat": 4,
 "nbformat_minor": 5
}
