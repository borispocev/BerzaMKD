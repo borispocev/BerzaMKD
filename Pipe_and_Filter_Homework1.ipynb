{
 "cells": [
  {
   "cell_type": "code",
   "execution_count": 1,
   "id": "19a268d6-9470-481d-b415-19693befe48d",
   "metadata": {},
   "outputs": [],
   "source": [
    "import requests\n",
    "from bs4 import BeautifulSoup\n",
    "import pandas as pd\n",
    "from concurrent.futures import ThreadPoolExecutor, as_completed\n",
    "import time"
   ]
  },
  {
   "cell_type": "code",
   "execution_count": 3,
   "id": "fff369d9-ddab-4851-8823-0d9f30702914",
   "metadata": {},
   "outputs": [],
   "source": [
    "def fetch_data_for_company(company, mainUrl, fromDates, toDates):\n",
    "    myList = []\n",
    "    for i in range(len(fromDates)):\n",
    "        url = f\"{mainUrl}{company}?FromDate=10.11.{fromDates[i]}&ToDate=09.11.{toDates[i]}\"\n",
    "        response = requests.get(url)\n",
    "        soup = BeautifulSoup(response.text, 'html.parser')\n",
    "        rows = soup.select(\"#resultsTable > tbody > tr\")\n",
    "\n",
    "        for row in rows:\n",
    "            datum = row.select_one(\"td:nth-child(1)\").text\n",
    "            cena_posledna = row.select_one(\"td:nth-child(2)\").text\n",
    "            mak = row.select_one(\"td:nth-child(3)\").text\n",
    "            minimum = row.select_one(\"td:nth-child(4)\").text\n",
    "            cena_prosecna = row.select_one(\"td:nth-child(5)\").text\n",
    "            procent_promet = row.select_one(\"td:nth-child(6)\").text\n",
    "            kolicina = row.select_one(\"td:nth-child(7)\").text\n",
    "            BEST_MKD = row.select_one(\"td:nth-child(8)\").text\n",
    "            vk_promet = row.select_one(\"td:nth-child(9)\").text\n",
    "\n",
    "            cena_dict = {\n",
    "                \"Company Name\": company,\n",
    "                \"Date\": datum,\n",
    "                \"Price\": cena_posledna,\n",
    "                \"Maximum\": mak,\n",
    "                \"Minimum\": minimum,\n",
    "                \"Average Price\": cena_prosecna,\n",
    "                \"Procent of turnover\": procent_promet,\n",
    "                \"Quantity\": kolicina,\n",
    "                \"BEST MKD\": BEST_MKD,\n",
    "                \"Total turnover\": vk_promet\n",
    "            }\n",
    "            myList.append(cena_dict)\n",
    "\n",
    "    return pd.DataFrame(myList)"
   ]
  },
  {
   "cell_type": "code",
   "execution_count": 5,
   "id": "7897ae5a-76c8-4361-8bb4-92ed12f9e7b0",
   "metadata": {},
   "outputs": [],
   "source": [
    "def scrape(mainUrl):\n",
    "    fromDates = ['2014', '2015', '2016', '2017', '2018', '2019', '2020', '2021', '2022', '2023']\n",
    "    toDates = ['2015', '2016', '2017', '2018', '2019', '2020', '2021', '2022', '2023', '2024']\n",
    "    pomUrl = mainUrl + \"ALK\"\n",
    "    response = requests.get(pomUrl)\n",
    "    soup = BeautifulSoup(response.text, 'html.parser')\n",
    "    sifri = soup.select(\"#Code > option\")\n",
    "    companies = [s.text for s in sifri if not any(char.isdigit() for char in s.text)]\n",
    "\n",
    "    dataFrameList = []\n",
    "    with ThreadPoolExecutor(max_workers=20) as executor:\n",
    "        futures = {executor.submit(fetch_data_for_company, company, mainUrl, fromDates, toDates): company for company in\n",
    "                   companies}\n",
    "        for future in as_completed(futures):\n",
    "            company = futures[future]\n",
    "            try:\n",
    "                dataFrameList.append(future.result())\n",
    "            except Exception as e:\n",
    "                print(f\"Error fetching data for {company}: {e}\")\n",
    "\n",
    "    return dataFrameList"
   ]
  },
  {
   "cell_type": "code",
   "execution_count": 7,
   "id": "b32c9bea-32ae-47c8-918d-46fde9ff79e8",
   "metadata": {},
   "outputs": [],
   "source": [
    "start_time = time.time()\n",
    "data = scrape(\"https://www.mse.mk/mk/stats/symbolhistory/\")\n",
    "end_time = time.time()"
   ]
  },
  {
   "cell_type": "code",
   "execution_count": 15,
   "id": "52be415f-342f-4290-92e3-8e189f97853d",
   "metadata": {},
   "outputs": [
    {
     "name": "stdout",
     "output_type": "stream",
     "text": [
      "Time taken: 1255.6618976593018\n"
     ]
    }
   ],
   "source": [
    "print(f\"Time taken: {end_time - start_time}\")"
   ]
  },
  {
   "cell_type": "code",
   "execution_count": null,
   "id": "40ba030a-2528-4cc0-938e-6e696cb1dc59",
   "metadata": {},
   "outputs": [],
   "source": []
  }
 ],
 "metadata": {
  "kernelspec": {
   "display_name": "Python 3 (ipykernel)",
   "language": "python",
   "name": "python3"
  },
  "language_info": {
   "codemirror_mode": {
    "name": "ipython",
    "version": 3
   },
   "file_extension": ".py",
   "mimetype": "text/x-python",
   "name": "python",
   "nbconvert_exporter": "python",
   "pygments_lexer": "ipython3",
   "version": "3.12.7"
  }
 },
 "nbformat": 4,
 "nbformat_minor": 5
}
